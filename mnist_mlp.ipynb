{
 "cells": [
  {
   "cell_type": "markdown",
   "metadata": {},
   "source": [
    "Setup"
   ]
  },
  {
   "cell_type": "code",
   "execution_count": 85,
   "metadata": {},
   "outputs": [],
   "source": [
    "# Import necessary modules\n",
    "import numpy as np                  # NumPy math library\n",
    "import matplotlib.pyplot as plt     # Matplotlib plotting library\n",
    "\n",
    "from keras.datasets import mnist    # MNIST dataset\n",
    "from keras import Sequential        # Sequential model (MLP model) to be used to build our model\n",
    "from keras.layers import Dense      # Types of layers to be used in our model\n",
    "from keras.utils import np_utils    # NumPy related tools"
   ]
  },
  {
   "cell_type": "markdown",
   "metadata": {},
   "source": [
    "Prepare the data"
   ]
  },
  {
   "cell_type": "code",
   "execution_count": 86,
   "metadata": {},
   "outputs": [
    {
     "name": "stdout",
     "output_type": "stream",
     "text": [
      "Shape of x_train:  (60000, 28, 28)\n",
      "Shape of y_train:  (60000,)\n",
      "Shape of x_test:  (10000, 28, 28)\n",
      "Shape of y_test:  (10000,)\n"
     ]
    }
   ],
   "source": [
    "# The MNIST dataset is split into 60,000 28 x 28 pixel images (training) and 10,000 28 x 28 pixel images (testing),\n",
    "# where each image is a 28 x 28 grayscale image, and \n",
    "# each pixel value ranges from 0 (black background) to 255 (white foreground).\n",
    "(x_train, y_train), (x_test, y_test) = mnist.load_data()\n",
    "\n",
    "# Show the shapes/dimensions of the dataset of training images and its class vector\n",
    "print(\"Shape of x_train: \", x_train.shape)\n",
    "print(\"Shape of y_train: \", y_train.shape)\n",
    "\n",
    "# Show the shapes/dimensions of the dataset of testing images and its class vector\n",
    "print(\"Shape of x_test: \", x_test.shape)\n",
    "print(\"Shape of y_test: \", y_test.shape)"
   ]
  },
  {
   "cell_type": "code",
   "execution_count": 87,
   "metadata": {},
   "outputs": [
    {
     "data": {
      "image/png": "[encoded data removed]",
      "text/plain": [
       "<Figure size 432x288 with 1 Axes>"
      ]
     },
     "metadata": {
      "needs_background": "light"
     },
     "output_type": "display_data"
    }
   ],
   "source": [
    "# Show one input (28 x 28 grayscale) image in the training dataset\n",
    "plt.figure()\n",
    "plt.imshow(x_train[1], cmap='gray', interpolation='none')\n",
    "plt.show()"
   ]
  },
  {
   "cell_type": "code",
   "execution_count": 88,
   "metadata": {},
   "outputs": [
    {
     "name": "stdout",
     "output_type": "stream",
     "text": [
      "   0   0   0   0   0   0   0   0   0   0   0   0   0   0   0   0   0   0   0   0   0   0   0   0   0   0   0   0\n",
      "   0   0   0   0   0   0   0   0   0   0   0   0   0   0   0   0   0   0   0   0   0   0   0   0   0   0   0   0\n",
      "   0   0   0   0   0   0   0   0   0   0   0   0   0   0   0   0   0   0   0   0   0   0   0   0   0   0   0   0\n",
      "   0   0   0   0   0   0   0   0   0   0   0   0   0   0   0   0   0   0   0   0   0   0   0   0   0   0   0   0\n",
      "   0   0   0   0   0   0   0   0   0   0   0   0   0   0   0  51 159 253 159  50   0   0   0   0   0   0   0   0\n",
      "   0   0   0   0   0   0   0   0   0   0   0   0   0   0  48 238 252 252 252 237   0   0   0   0   0   0   0   0\n",
      "   0   0   0   0   0   0   0   0   0   0   0   0   0  54 227 253 252 239 233 252  57   6   0   0   0   0   0   0\n",
      "   0   0   0   0   0   0   0   0   0   0   0  10  60 224 252 253 252 202  84 252 253 122   0   0   0   0   0   0\n",
      "   0   0   0   0   0   0   0   0   0   0   0 163 252 252 252 253 252 252  96 189 253 167   0   0   0   0   0   0\n",
      "   0   0   0   0   0   0   0   0   0   0  51 238 253 253 190 114 253 228  47  79 255 168   0   0   0   0   0   0\n",
      "   0   0   0   0   0   0   0   0   0  48 238 252 252 179  12  75 121  21   0   0 253 243  50   0   0   0   0   0\n",
      "   0   0   0   0   0   0   0   0  38 165 253 233 208  84   0   0   0   0   0   0 253 252 165   0   0   0   0   0\n",
      "   0   0   0   0   0   0   0   7 178 252 240  71  19  28   0   0   0   0   0   0 253 252 195   0   0   0   0   0\n",
      "   0   0   0   0   0   0   0  57 252 252  63   0   0   0   0   0   0   0   0   0 253 252 195   0   0   0   0   0\n",
      "   0   0   0   0   0   0   0 198 253 190   0   0   0   0   0   0   0   0   0   0 255 253 196   0   0   0   0   0\n",
      "   0   0   0   0   0   0  76 246 252 112   0   0   0   0   0   0   0   0   0   0 253 252 148   0   0   0   0   0\n",
      "   0   0   0   0   0   0  85 252 230  25   0   0   0   0   0   0   0   0   7 135 253 186  12   0   0   0   0   0\n",
      "   0   0   0   0   0   0  85 252 223   0   0   0   0   0   0   0   0   7 131 252 225  71   0   0   0   0   0   0\n",
      "   0   0   0   0   0   0  85 252 145   0   0   0   0   0   0   0  48 165 252 173   0   0   0   0   0   0   0   0\n",
      "   0   0   0   0   0   0  86 253 225   0   0   0   0   0   0 114 238 253 162   0   0   0   0   0   0   0   0   0\n",
      "   0   0   0   0   0   0  85 252 249 146  48  29  85 178 225 253 223 167  56   0   0   0   0   0   0   0   0   0\n",
      "   0   0   0   0   0   0  85 252 252 252 229 215 252 252 252 196 130   0   0   0   0   0   0   0   0   0   0   0\n",
      "   0   0   0   0   0   0  28 199 252 252 253 252 252 233 145   0   0   0   0   0   0   0   0   0   0   0   0   0\n",
      "   0   0   0   0   0   0   0  25 128 252 253 252 141  37   0   0   0   0   0   0   0   0   0   0   0   0   0   0\n",
      "   0   0   0   0   0   0   0   0   0   0   0   0   0   0   0   0   0   0   0   0   0   0   0   0   0   0   0   0\n",
      "   0   0   0   0   0   0   0   0   0   0   0   0   0   0   0   0   0   0   0   0   0   0   0   0   0   0   0   0\n",
      "   0   0   0   0   0   0   0   0   0   0   0   0   0   0   0   0   0   0   0   0   0   0   0   0   0   0   0   0\n",
      "   0   0   0   0   0   0   0   0   0   0   0   0   0   0   0   0   0   0   0   0   0   0   0   0   0   0   0   0\n"
     ]
    }
   ],
   "source": [
    "# Show the actual values in the 28 x 28 matrix of the input image\n",
    "print('\\n'.join([''.join(['{:4}'.format(item) for item in row]) for row in x_train[1]]))"
   ]
  },
  {
   "cell_type": "code",
   "execution_count": 89,
   "metadata": {},
   "outputs": [
    {
     "name": "stdout",
     "output_type": "stream",
     "text": [
      "Shape of x_train (updated):  (60000, 784)\n",
      "Shape of x_test (updated):  (10000, 784)\n"
     ]
    }
   ],
   "source": [
    "# Reshape 60,000 28 x 28 matrices (training images) into 60,000 784-length vectors,\n",
    "# i.e., each input image is treated as a 784-length vector.\n",
    "x_train = x_train.reshape(60000, 784)\n",
    "# Reshape 10,000 28 x 28 matrices (testing images) into 10,000 784-length vectors\n",
    "x_test = x_test.reshape(10000, 784)\n",
    "\n",
    "# Scale every pixel to the [0, 1] range \n",
    "x_train = x_train.astype('float32') / 255   \n",
    "x_test = x_test.astype('float32') / 255\n",
    "\n",
    "# Show the shapes/dimensions of the dataset of converted training images\n",
    "print(\"Shape of x_train (updated): \", x_train.shape)\n",
    "# Show the shapes/dimensions of the dataset of converted testing images\n",
    "print(\"Shape of x_test (updated): \", x_test.shape)"
   ]
  },
  {
   "cell_type": "code",
   "execution_count": 90,
   "metadata": {},
   "outputs": [
    {
     "name": "stdout",
     "output_type": "stream",
     "text": [
      "Shape of y_train_binary:  (60000, 10)\n",
      "Shape of y_test_binary:  (10000, 10)\n"
     ]
    }
   ],
   "source": [
    "# Number of unique digits\n",
    "num_classes = 10 \n",
    "\n",
    "# Convert the training class vector to a binary class matrix, e.g., digit 7 -> [0 0 0 0 0 0 0 1 0 0]\n",
    "y_train_binary = np_utils.to_categorical(y_train, num_classes)\n",
    "# Convert the testing class vector to a binary class matrix\n",
    "y_test_binary = np_utils.to_categorical(y_test, num_classes)\n",
    "\n",
    "# Show the shape/dimension of each binary class matrix, which should be the number of samples in the set x 10.\n",
    "print(\"Shape of y_train_binary: \", y_train_binary.shape)\n",
    "print(\"Shape of y_test_binary: \", y_test_binary.shape)"
   ]
  },
  {
   "cell_type": "markdown",
   "metadata": {},
   "source": [
    "Build the model"
   ]
  },
  {
   "cell_type": "code",
   "execution_count": 91,
   "metadata": {},
   "outputs": [
    {
     "name": "stdout",
     "output_type": "stream",
     "text": [
      "Model: \"MLP\"\n",
      "_________________________________________________________________\n",
      "Layer (type)                 Output Shape              Param #   \n",
      "=================================================================\n",
      "hidden_layer_1 (Dense)       (None, 512)               401920    \n",
      "_________________________________________________________________\n",
      "hidden_layer_2 (Dense)       (None, 512)               262656    \n",
      "_________________________________________________________________\n",
      "output_layer (Dense)         (None, 10)                5130      \n",
      "=================================================================\n",
      "Total params: 669,706\n",
      "Trainable params: 669,706\n",
      "Non-trainable params: 0\n",
      "_________________________________________________________________\n"
     ]
    }
   ],
   "source": [
    "# Build a three-layer MLP model, which takes a 784-length vector as input # and \n",
    "# consists two hidden layers of 512 nodes and the output layer of ten nodes.\n",
    "# The Sequential model is a plain stack of layers. Recall that an MLP consists of successive layers. \n",
    "model = Sequential(name='MLP')\n",
    "\n",
    "# The first hidden layer is a fully-connected layer of 512 nodes (artificial neurons) with the ReLU activation function.\n",
    "# (784,) indicates the shape/dimension of the input vector, which is a one-dimensional array of size 784.\n",
    "model.add(Dense(512, activation='relu', input_shape=(784,), name='hidden_layer_1'))\n",
    "\n",
    "# The second hidden layer is also a fully-connected layer of 512 nodes with the ReLU activation function.\n",
    "model.add(Dense(512, activation='relu', name='hidden_layer_2'))\n",
    "\n",
    "# The final layer is a fully-connected layer of of ten nodes (clsses) with the softmax activation function.\n",
    "model.add(Dense(num_classes, activation='softmax', name='output_layer'))\n",
    "\n",
    "# Summarize the built model\n",
    "model.summary()"
   ]
  },
  {
   "cell_type": "markdown",
   "metadata": {},
   "source": [
    "Train the model"
   ]
  },
  {
   "cell_type": "code",
   "execution_count": 92,
   "metadata": {},
   "outputs": [
    {
     "name": "stdout",
     "output_type": "stream",
     "text": [
      "Epoch 1/5\n",
      "469/469 [==============================] - 2s 4ms/step - loss: 0.4075 - accuracy: 0.8829\n",
      "Epoch 2/5\n",
      "469/469 [==============================] - 2s 4ms/step - loss: 0.0824 - accuracy: 0.9756\n",
      "Epoch 3/5\n",
      "469/469 [==============================] - 2s 4ms/step - loss: 0.0520 - accuracy: 0.9841\n",
      "Epoch 4/5\n",
      "469/469 [==============================] - 2s 4ms/step - loss: 0.0325 - accuracy: 0.9896\n",
      "Epoch 5/5\n",
      "469/469 [==============================] - 2s 4ms/step - loss: 0.0221 - accuracy: 0.9931\n",
      "313/313 [==============================] - 1s 3ms/step - loss: 0.0681 - accuracy: 0.9797\n"
     ]
    }
   ],
   "source": [
    "# Use the Adam optimizer for learning\n",
    "# Mini-batch learning used with five epochs (five passes over the training dataset)\n",
    "model.compile(loss='categorical_crossentropy', optimizer='adam', metrics=['accuracy'])\n",
    "model.fit(x_train, y_train_binary, batch_size=128, epochs=5)\n",
    "score = model.evaluate(x_test, y_test_binary)"
   ]
  },
  {
   "cell_type": "markdown",
   "metadata": {},
   "source": [
    "Evaluate the trained model"
   ]
  },
  {
   "cell_type": "code",
   "execution_count": 93,
   "metadata": {},
   "outputs": [
    {
     "name": "stdout",
     "output_type": "stream",
     "text": [
      "Test loss: 0.06812853366136551\n",
      "Test accuracy: 0.9797000288963318\n"
     ]
    }
   ],
   "source": [
    "# Show the performance of the learned model\n",
    "print('Test loss:', score[0])\n",
    "print('Test accuracy:', score[1])"
   ]
  },
  {
   "cell_type": "code",
   "execution_count": 94,
   "metadata": {},
   "outputs": [
    {
     "data": {
      "image/png": "[encoded data removed]",
      "text/plain": [
       "<Figure size 432x288 with 9 Axes>"
      ]
     },
     "metadata": {
      "needs_background": "light"
     },
     "output_type": "display_data"
    }
   ],
   "source": [
    "# For each input sample (handwritten digit), its predicted class will be the one with the highest probability \n",
    "# according to the trained model.\n",
    "predicted_classes = np.argmax(model.predict(x_test), axis=-1)\n",
    "\n",
    "# Check which samples are correctly predicted\n",
    "correct_samples = np.nonzero(predicted_classes == y_test)[0]\n",
    "\n",
    "# Show nine samples that are correctly predicted\n",
    "plt.figure()\n",
    "for i, correct in enumerate(correct_samples[:9]):\n",
    "    plt.subplot(3, 3, i + 1)\n",
    "    plt.imshow(x_test[correct].reshape(28, 28), cmap='gray', interpolation='none')\n",
    "    plt.title(\"Original {}, Predicted {}\".format(y_test[correct], predicted_classes[correct]))\n",
    "\n",
    "plt.tight_layout()\n",
    "plt.show()"
   ]
  },
  {
   "cell_type": "code",
   "execution_count": 95,
   "metadata": {},
   "outputs": [
    {
     "data": {
      "image/png": "[encoded data removed]",
      "text/plain": [
       "<Figure size 432x288 with 9 Axes>"
      ]
     },
     "metadata": {
      "needs_background": "light"
     },
     "output_type": "display_data"
    }
   ],
   "source": [
    "# Check which samples are incorrectly predicted\n",
    "incorrect_samples = np.nonzero(predicted_classes != y_test)[0]\n",
    "\n",
    "# Show nine samples that are incorrectly predicted\n",
    "plt.figure()\n",
    "for i, incorrect in enumerate(incorrect_samples[:9]):\n",
    "    plt.subplot(3, 3, i + 1)\n",
    "    plt.imshow(x_test[incorrect].reshape(28, 28), cmap='gray', interpolation='none')\n",
    "    plt.title(\"Original {}, Predicted {}\".format(y_test[incorrect], predicted_classes[incorrect]))\n",
    "\n",
    "plt.tight_layout()\n",
    "plt.show()"
   ]
  }
 ],
 "metadata": {
  "kernelspec": {
   "display_name": "Python 3.8.13 ('zeus')",
   "language": "python",
   "name": "python3"
  },
  "language_info": {
   "codemirror_mode": {
    "name": "ipython",
    "version": 3
   },
   "file_extension": ".py",
   "mimetype": "text/x-python",
   "name": "python",
   "nbconvert_exporter": "python",
   "pygments_lexer": "ipython3",
   "version": "3.8.13"
  },
  "orig_nbformat": 4,
  "vscode": {
   "interpreter": {
    "hash": "7291f8458d49d94f886972fcad060cee65c6ff59d86610a2ed631daa1c91c066"
   }
  }
 },
 "nbformat": 4,
 "nbformat_minor": 2
}
